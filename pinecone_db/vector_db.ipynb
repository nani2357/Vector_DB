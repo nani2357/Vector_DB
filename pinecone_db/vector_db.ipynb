{
 "cells": [
  {
   "cell_type": "code",
   "execution_count": 7,
   "metadata": {},
   "outputs": [
    {
     "name": "stdout",
     "output_type": "stream",
     "text": [
      "Requirement already satisfied: langchain in c:\\users\\navee\\anaconda3\\lib\\site-packages (0.1.20)\n",
      "Requirement already satisfied: PyYAML>=5.3 in c:\\users\\navee\\anaconda3\\lib\\site-packages (from langchain) (6.0.1)\n",
      "Requirement already satisfied: SQLAlchemy<3,>=1.4 in c:\\users\\navee\\anaconda3\\lib\\site-packages (from langchain) (2.0.25)\n",
      "Requirement already satisfied: aiohttp<4.0.0,>=3.8.3 in c:\\users\\navee\\anaconda3\\lib\\site-packages (from langchain) (3.9.3)\n",
      "Requirement already satisfied: dataclasses-json<0.7,>=0.5.7 in c:\\users\\navee\\anaconda3\\lib\\site-packages (from langchain) (0.6.6)\n",
      "Requirement already satisfied: langchain-community<0.1,>=0.0.38 in c:\\users\\navee\\anaconda3\\lib\\site-packages (from langchain) (0.0.38)\n",
      "Requirement already satisfied: langchain-core<0.2.0,>=0.1.52 in c:\\users\\navee\\anaconda3\\lib\\site-packages (from langchain) (0.1.52)\n",
      "Requirement already satisfied: langchain-text-splitters<0.1,>=0.0.1 in c:\\users\\navee\\anaconda3\\lib\\site-packages (from langchain) (0.0.1)\n",
      "Requirement already satisfied: langsmith<0.2.0,>=0.1.17 in c:\\users\\navee\\anaconda3\\lib\\site-packages (from langchain) (0.1.58)\n",
      "Requirement already satisfied: numpy<2,>=1 in c:\\users\\navee\\anaconda3\\lib\\site-packages (from langchain) (1.26.4)\n",
      "Requirement already satisfied: pydantic<3,>=1 in c:\\users\\navee\\anaconda3\\lib\\site-packages (from langchain) (1.10.12)\n",
      "Requirement already satisfied: requests<3,>=2 in c:\\users\\navee\\anaconda3\\lib\\site-packages (from langchain) (2.31.0)\n",
      "Requirement already satisfied: tenacity<9.0.0,>=8.1.0 in c:\\users\\navee\\anaconda3\\lib\\site-packages (from langchain) (8.2.2)\n",
      "Requirement already satisfied: aiosignal>=1.1.2 in c:\\users\\navee\\anaconda3\\lib\\site-packages (from aiohttp<4.0.0,>=3.8.3->langchain) (1.2.0)\n",
      "Requirement already satisfied: attrs>=17.3.0 in c:\\users\\navee\\anaconda3\\lib\\site-packages (from aiohttp<4.0.0,>=3.8.3->langchain) (23.1.0)\n",
      "Requirement already satisfied: frozenlist>=1.1.1 in c:\\users\\navee\\anaconda3\\lib\\site-packages (from aiohttp<4.0.0,>=3.8.3->langchain) (1.4.0)\n",
      "Requirement already satisfied: multidict<7.0,>=4.5 in c:\\users\\navee\\anaconda3\\lib\\site-packages (from aiohttp<4.0.0,>=3.8.3->langchain) (6.0.4)\n",
      "Requirement already satisfied: yarl<2.0,>=1.0 in c:\\users\\navee\\anaconda3\\lib\\site-packages (from aiohttp<4.0.0,>=3.8.3->langchain) (1.9.3)\n",
      "Requirement already satisfied: marshmallow<4.0.0,>=3.18.0 in c:\\users\\navee\\anaconda3\\lib\\site-packages (from dataclasses-json<0.7,>=0.5.7->langchain) (3.21.2)\n",
      "Requirement already satisfied: typing-inspect<1,>=0.4.0 in c:\\users\\navee\\anaconda3\\lib\\site-packages (from dataclasses-json<0.7,>=0.5.7->langchain) (0.9.0)\n",
      "Requirement already satisfied: jsonpatch<2.0,>=1.33 in c:\\users\\navee\\anaconda3\\lib\\site-packages (from langchain-core<0.2.0,>=0.1.52->langchain) (1.33)\n",
      "Requirement already satisfied: packaging<24.0,>=23.2 in c:\\users\\navee\\anaconda3\\lib\\site-packages (from langchain-core<0.2.0,>=0.1.52->langchain) (23.2)\n",
      "Requirement already satisfied: orjson<4.0.0,>=3.9.14 in c:\\users\\navee\\anaconda3\\lib\\site-packages (from langsmith<0.2.0,>=0.1.17->langchain) (3.10.3)\n",
      "Requirement already satisfied: typing-extensions>=4.2.0 in c:\\users\\navee\\anaconda3\\lib\\site-packages (from pydantic<3,>=1->langchain) (4.9.0)\n",
      "Requirement already satisfied: charset-normalizer<4,>=2 in c:\\users\\navee\\anaconda3\\lib\\site-packages (from requests<3,>=2->langchain) (2.0.4)\n",
      "Requirement already satisfied: idna<4,>=2.5 in c:\\users\\navee\\anaconda3\\lib\\site-packages (from requests<3,>=2->langchain) (3.4)\n",
      "Requirement already satisfied: urllib3<3,>=1.21.1 in c:\\users\\navee\\anaconda3\\lib\\site-packages (from requests<3,>=2->langchain) (2.0.7)\n",
      "Requirement already satisfied: certifi>=2017.4.17 in c:\\users\\navee\\anaconda3\\lib\\site-packages (from requests<3,>=2->langchain) (2024.2.2)\n",
      "Requirement already satisfied: greenlet!=0.4.17 in c:\\users\\navee\\anaconda3\\lib\\site-packages (from SQLAlchemy<3,>=1.4->langchain) (3.0.1)\n",
      "Requirement already satisfied: jsonpointer>=1.9 in c:\\users\\navee\\anaconda3\\lib\\site-packages (from jsonpatch<2.0,>=1.33->langchain-core<0.2.0,>=0.1.52->langchain) (2.1)\n",
      "Requirement already satisfied: mypy-extensions>=0.3.0 in c:\\users\\navee\\anaconda3\\lib\\site-packages (from typing-inspect<1,>=0.4.0->dataclasses-json<0.7,>=0.5.7->langchain) (1.0.0)\n",
      "Requirement already satisfied: pinecone-client in c:\\users\\navee\\anaconda3\\lib\\site-packages (4.1.0)\n",
      "Requirement already satisfied: certifi>=2019.11.17 in c:\\users\\navee\\anaconda3\\lib\\site-packages (from pinecone-client) (2024.2.2)\n",
      "Requirement already satisfied: tqdm>=4.64.1 in c:\\users\\navee\\anaconda3\\lib\\site-packages (from pinecone-client) (4.65.0)\n",
      "Requirement already satisfied: typing-extensions>=3.7.4 in c:\\users\\navee\\anaconda3\\lib\\site-packages (from pinecone-client) (4.9.0)\n",
      "Requirement already satisfied: urllib3>=1.26.0 in c:\\users\\navee\\anaconda3\\lib\\site-packages (from pinecone-client) (2.0.7)\n",
      "Requirement already satisfied: colorama in c:\\users\\navee\\anaconda3\\lib\\site-packages (from tqdm>=4.64.1->pinecone-client) (0.4.6)\n",
      "Requirement already satisfied: pypdf in c:\\users\\navee\\anaconda3\\lib\\site-packages (4.2.0)\n",
      "Requirement already satisfied: openai in c:\\users\\navee\\anaconda3\\lib\\site-packages (1.30.1)\n",
      "Requirement already satisfied: anyio<5,>=3.5.0 in c:\\users\\navee\\anaconda3\\lib\\site-packages (from openai) (4.2.0)\n",
      "Requirement already satisfied: distro<2,>=1.7.0 in c:\\users\\navee\\anaconda3\\lib\\site-packages (from openai) (1.8.0)\n",
      "Requirement already satisfied: httpx<1,>=0.23.0 in c:\\users\\navee\\anaconda3\\lib\\site-packages (from openai) (0.27.0)\n",
      "Requirement already satisfied: pydantic<3,>=1.9.0 in c:\\users\\navee\\anaconda3\\lib\\site-packages (from openai) (1.10.12)\n",
      "Requirement already satisfied: sniffio in c:\\users\\navee\\anaconda3\\lib\\site-packages (from openai) (1.3.0)\n",
      "Requirement already satisfied: tqdm>4 in c:\\users\\navee\\anaconda3\\lib\\site-packages (from openai) (4.65.0)\n",
      "Requirement already satisfied: typing-extensions<5,>=4.7 in c:\\users\\navee\\anaconda3\\lib\\site-packages (from openai) (4.9.0)\n",
      "Requirement already satisfied: idna>=2.8 in c:\\users\\navee\\anaconda3\\lib\\site-packages (from anyio<5,>=3.5.0->openai) (3.4)\n",
      "Requirement already satisfied: certifi in c:\\users\\navee\\anaconda3\\lib\\site-packages (from httpx<1,>=0.23.0->openai) (2024.2.2)\n",
      "Requirement already satisfied: httpcore==1.* in c:\\users\\navee\\anaconda3\\lib\\site-packages (from httpx<1,>=0.23.0->openai) (1.0.5)\n",
      "Requirement already satisfied: h11<0.15,>=0.13 in c:\\users\\navee\\anaconda3\\lib\\site-packages (from httpcore==1.*->httpx<1,>=0.23.0->openai) (0.14.0)\n",
      "Requirement already satisfied: colorama in c:\\users\\navee\\anaconda3\\lib\\site-packages (from tqdm>4->openai) (0.4.6)\n",
      "Requirement already satisfied: tiktoken in c:\\users\\navee\\anaconda3\\lib\\site-packages (0.7.0)\n",
      "Requirement already satisfied: regex>=2022.1.18 in c:\\users\\navee\\anaconda3\\lib\\site-packages (from tiktoken) (2023.10.3)\n",
      "Requirement already satisfied: requests>=2.26.0 in c:\\users\\navee\\anaconda3\\lib\\site-packages (from tiktoken) (2.31.0)\n",
      "Requirement already satisfied: charset-normalizer<4,>=2 in c:\\users\\navee\\anaconda3\\lib\\site-packages (from requests>=2.26.0->tiktoken) (2.0.4)\n",
      "Requirement already satisfied: idna<4,>=2.5 in c:\\users\\navee\\anaconda3\\lib\\site-packages (from requests>=2.26.0->tiktoken) (3.4)\n",
      "Requirement already satisfied: urllib3<3,>=1.21.1 in c:\\users\\navee\\anaconda3\\lib\\site-packages (from requests>=2.26.0->tiktoken) (2.0.7)\n",
      "Requirement already satisfied: certifi>=2017.4.17 in c:\\users\\navee\\anaconda3\\lib\\site-packages (from requests>=2.26.0->tiktoken) (2024.2.2)\n"
     ]
    }
   ],
   "source": [
    "!pip install langchain\n",
    "!pip install pinecone-client\n",
    "!pip install pypdf\n",
    "!pip install openai\n",
    "!pip install tiktoken"
   ]
  },
  {
   "cell_type": "code",
   "execution_count": 31,
   "metadata": {},
   "outputs": [],
   "source": [
    "from dotenv import load_dotenv\n",
    "import os\n",
    "load_dotenv()\n",
    "PINECONE_API_KEY=os.getenv(\"PINECONE_API_KEY\")\n",
    "OPENAI_API_KEY=os.getenv(\"OPENAI_API_KEY\")\n",
    "PINECONE_API_ENV = os.environ.get('PINECONE_API_ENV', 'gcp-starter')\n",
    "#print(OPENAI_API_KEY)"
   ]
  },
  {
   "cell_type": "code",
   "execution_count": 32,
   "metadata": {},
   "outputs": [],
   "source": [
    "from langchain.document_loaders import PyPDFDirectoryLoader\n",
    "from langchain.text_splitter import RecursiveCharacterTextSplitter\n",
    "from langchain.embeddings import OpenAIEmbeddings\n",
    "from langchain.llms import OpenAI\n",
    "from langchain.vectorstores import Pinecone\n",
    "from langchain.chains import RetrievalQA\n",
    "from langchain.prompts import PromptTemplate\n",
    "import pinecone"
   ]
  },
  {
   "cell_type": "code",
   "execution_count": 17,
   "metadata": {},
   "outputs": [],
   "source": [
    "loader=PyPDFDirectoryLoader(\"pdfs\")\n",
    "data =loader.load()"
   ]
  },
  {
   "cell_type": "code",
   "execution_count": 19,
   "metadata": {},
   "outputs": [
    {
     "data": {
      "text/plain": [
       "Document(page_content=\"The London and Overseas Insurance Company Limited (In Scheme of Arrangement - Insolvent) 202226 X X X X X X - - - - - - - - - - -\\nThe London Steam-Ship Owners' Mutual Insurance Association Limited 202229 X X - X - X X - - - - - - - - - -\\nThe Marine Insurance Company Limited 202776 X X X X X X X - - - - - - - - - -\\nThe National Farmers' Union Mutual Insurance Society Limited 117664 X X X X X X X X X X X - X X - - -\\nThe New India Assurance Company Limited 202858 X X X X X X X - - - - - - - - - -\\nThe Ocean Marine Insurance Company Limited 202787 X X X X X X X - - - - - - - - - -\\nThe Oriental Insurance Company Limited 202287 X X - X - X - - - - - - - - - - -\\nThe Original Holloway Friendly Society Limited 109986 - - - - - - - X - X X - - - - - -\\nThe Prudential Assurance Company Limited 139793 X X X X X X X X X X X - X X - - -\\nThe Rechabite Friendly Society Limited 109994 - - - - - - - X - X X - - - - - -\\nThe Red Rose Friendly Society Limited 110097 - - - - - - - X - X - - - - - - -\\nThe Royal London Mutual Insurance Society Limited 117672 - - - - - - - X X X X - X X - - -\\nThe Salvation Army General Insurance Corporation Ltd 202327 X X X X X - X - - - - - - - - - -\\nThe Scottish Lion Insurance Company Limited 202754 X X X X X X - - - - - - - - - - -\\nThe Scottish Teachers' Nursing Association Ltd 202798 X - - - - - X - - - - - - - - - -\\nThe Shepherds Friendly Society Limited 109997 - - - - - - - X - X X - - - - - -\\nThe Shipowners' Mutual Protection and Indemnity Association (Luxembourg) 202802 X X - X - - X - - - - - - - - - -\\nThe Standard Club UK Ltd 202805 X X - X X X X - - - - - - - - - -\\nThe Steamship Mutual Underwriting Association Ltd 202548 X X - X X X X - - - - - - - - - -\\nThe United Kingdom Mutual Steam Ship Assurance Association Limited 202560 X X - X X X X - - - - - - - - - -\\nThe Veterinary Defence Society Limited 202598 - - - - X - X - - - - - - - - - -\\nThe West of England Ship Owners Mutual Insurance Association (Luxembourg) 202613 X X - X - - X - - - - - - - - - -\\nThe Wren Insurance Association Limited 202701 - - - - X - X - - - - - - - - - -\\nThreadneedle Pensions Limited 110337 - - - - - - - X X X X - X X - - -\\nTitanium Insurance Ltd 953986 - - X - - X X - - - - - - - - - -\\nTokio Marine Europe S.A. 821456 X X X X X X X - - - - - - - - - -\\nTokio Marine Kiln Insurance Limited 202574 X X X X X X X - - - - - - - - - -\\nTradex Insurance Company Limited 202917 X X X X X - X - - - - - - - - - -\\nTrafalgar Insurance Limited 202578 X X X X X X X - - - - - - - - - -\\nTransatlantic Life Assurance Company Limited 110937 - - - - - - - X X X X - X X - - -\\nTransatlantic Reinsurance Company 202632 X X X X X X X - - - - - - - - - -\\nTransfercom Limited 454739 X X X X X X X - - - - - - - - - -\\nTransport Friendly Society Limited 110020 - - - - - - - X - X X - - - - - -\\nTransRe London Limited 600544 X X X X X X X - - - - - - - - - -\\nTravelers Insurance Company Limited 202549 X X X X X X X - - - - - - - - - -\\nTrent Insurance Company Limited 202770 - - - - X - - - - - - - - - - - -\\nTT Club Mutual Insurance Limited 202852 X X X X X X X - - - - - - - - - -\\nU K Insurance Limited 202810 X X X X X X X - - - - - - - - - -\\nUBS Asset Management Life Ltd 186527 - - - - - - - X - X - - - - - - -\\nUIA (Insurance) Limited 110863 X - X - X X X - - - - - - - - - -\\nUnited Kingdom Freight Demurrage and Defence Association Limited 202588 X X - X - X X - - - - - - - - - -\\nUnited Kingdom Mutual War Risks Association Ltd 202813 X X - X - X - - - - - - - - - - -\\nUnitedHealthcare Insurance dac 802734 X - - - - - X - - - - - - - - - -\\nUNUM Life Insurance Company of America 202914 X - - - - - X - - - - - - - - - -\\nUnum Ltd 110408 X - - - - - - X X X X - X X - - -\\nUSAA Limited 202016 X X X X X - X - - - - - - - - - -\\nUSAA S.A. UK Branch 946508 X X X X X - X - - - - - - - - - -\\nUtmost Life and Pensions Limited 775704 - - - - - - - X X X X - X X - - -\\nUzbekinvest International Insurance Company Ltd 202923 - - X - - X X - - - - - - - - - -\\nVitality Health Limited 400057 X X X X X - X - - - - - - - - - -\\nVitality Life Limited 675028 - - - - - - - X - X X - - - - - -\\nW.R. Berkley Europe AG 731011 X X X X X X X - - - - - - - - - -\\nWaltham Forest Friendly Society 205470 - - - - - - - - - X - - - - - - -\\nWausau Insurance Company (UK) Limited 202127 X X X X X X X - - - - - - - - - -\\nWelsh Hospitals & Health Services Association 202605 X - - - - - X - - - - - - - - - -\\nWesleyan Assurance Society 110873 - - - - X - - X X X X - X X - - -\\nWestern Provident Association Limited 202608 X - - - - - X - - - - - - - - - -\\nWestfield Contributory Health Scheme 202609 X - - - - - X - - - - - - - - - -\\nWiltshire Friendly Society Limited 110053 - - - - - - - X - - X - - - - - -\\nWolferstans Friendly Society 143467 - - - - - - - - - X - - - - - - -\\nWorcester Hospital Contributors' Association 202815 X - - - - - X - - - - - - - - - -\\nXitus Insurance Limited 202792 X X X X X - - - - - - - - - - - -\\nXL Bermuda Ltd 202920 - - - - - - - X - X X - - - - - -\\nXL Insurance Company SE 826486 X X X X X X X - - - - - - - - - -\\nXL Re Europe SE 461784 - - - - - - - - - - - - - - - - -\\nZurich Assurance Ltd 147672 - - - - - - - X X X X - X X - - -\\nZurich Insurance Company Ltd 959113 X X X X X X X - - - - - - - - - -\\nZurich Insurance PLC 203093 X X X X X X X - - - - - - - - - -\\nAtlas Capital UK 2018 PLC 809207 - - - - - - - - - - - - - - - - X\", metadata={'source': 'pdfs\\\\list-of-uk-insurers-april-2023.pdf', 'page': 5})"
      ]
     },
     "execution_count": 19,
     "metadata": {},
     "output_type": "execute_result"
    }
   ],
   "source": [
    "data[5]"
   ]
  },
  {
   "cell_type": "code",
   "execution_count": 21,
   "metadata": {},
   "outputs": [
    {
     "data": {
      "text/plain": [
       "Document(page_content='Insurance Special Purpose Vehicle\\nAccident & \\nSicknessMotor \\nvehicle \\nliability and \\nother motor \\nvehicle \\ninsuranceFire and \\nother \\ndamage to \\nproperty Marine, \\naviation and \\nrailway \\nrolling stock General \\nliabilityCredit and \\nsuretyship Other \\nClassesLife and \\nannuityMarriage \\nand birthLinked long-\\ntermPermanent \\nhealthTontines Capital \\nredemptionPension fund \\nmanagementCollective \\ninsuranceSocial \\ninsuranceRisk transformation\\n1 & 2 3, 7 & 10 8 & 9 4, 5, 6, 7,', metadata={'source': 'pdfs\\\\list-of-uk-insurers-april-2023.pdf', 'page': 0})"
      ]
     },
     "execution_count": 21,
     "metadata": {},
     "output_type": "execute_result"
    }
   ],
   "source": [
    "text_splitter = RecursiveCharacterTextSplitter(chunk_size=500, chunk_overlap=20)\n",
    "\n",
    "text_chunks = text_splitter.split_documents(data)\n",
    "\n",
    "text_chunks[0]"
   ]
  },
  {
   "cell_type": "code",
   "execution_count": 24,
   "metadata": {},
   "outputs": [
    {
     "name": "stdout",
     "output_type": "stream",
     "text": [
      "Assuranceforeningen GARD-Gjensidig 203113 - X X X X - X - - - - - - - - - -\n",
      "Assuranceforeningen Skuld (Gjensidig) UK branch 517991 - - X X - - X - - - - - - - - - -\n",
      "Assurant General Insurance Limited 202735 X X X X X - X - - - - - - - - - -\n",
      "Assured Guaranty UK Limited 202896 - - - - - X X - - - - - - - - - -\n",
      "Astrenska Insurance Limited 202846 X X X X X X X - - - - - - - - - -\n",
      "Atradius Credito Y Caucion S.A De Seguros Y Reaseguros 755408 - - - - - X - - - - - - - - - - -\n"
     ]
    }
   ],
   "source": [
    "print(text_chunks[5].page_content)"
   ]
  },
  {
   "cell_type": "code",
   "execution_count": 28,
   "metadata": {},
   "outputs": [],
   "source": [
    "embedding=OpenAIEmbeddings()\n",
    "\n",
    "test_embed=embedding.embed_query(\"i am fine\")"
   ]
  },
  {
   "cell_type": "code",
   "execution_count": 29,
   "metadata": {},
   "outputs": [
    {
     "data": {
      "text/plain": [
       "1536"
      ]
     },
     "execution_count": 29,
     "metadata": {},
     "output_type": "execute_result"
    }
   ],
   "source": [
    "len(test_embed)"
   ]
  },
  {
   "cell_type": "code",
   "execution_count": 33,
   "metadata": {},
   "outputs": [
    {
     "ename": "AttributeError",
     "evalue": "init is no longer a top-level attribute of the pinecone package.\n\nPlease create an instance of the Pinecone class instead.\n\nExample:\n\n    import os\n    from pinecone import Pinecone, ServerlessSpec\n\n    pc = Pinecone(\n        api_key=os.environ.get(\"PINECONE_API_KEY\")\n    )\n\n    # Now do stuff\n    if 'my_index' not in pc.list_indexes().names():\n        pc.create_index(\n            name='my_index', \n            dimension=1536, \n            metric='euclidean',\n            spec=ServerlessSpec(\n                cloud='aws',\n                region='us-west-2'\n            )\n        )\n\n",
     "output_type": "error",
     "traceback": [
      "\u001b[1;31m---------------------------------------------------------------------------\u001b[0m",
      "\u001b[1;31mAttributeError\u001b[0m                            Traceback (most recent call last)",
      "Cell \u001b[1;32mIn[33], line 1\u001b[0m\n\u001b[1;32m----> 1\u001b[0m pinecone\u001b[38;5;241m.\u001b[39minit( api_key\u001b[38;5;241m=\u001b[39mPINECONE_API_KEY,  \u001b[38;5;66;03m# find at app.pinecone.io\u001b[39;00m\n\u001b[0;32m      2\u001b[0m      environment\u001b[38;5;241m=\u001b[39mPINECONE_API_ENV  \u001b[38;5;66;03m# next to api key in console\u001b[39;00m\n\u001b[0;32m      3\u001b[0m )\n",
      "File \u001b[1;32mc:\\Users\\navee\\anaconda3\\Lib\\site-packages\\pinecone\\deprecation_warnings.py:38\u001b[0m, in \u001b[0;36minit\u001b[1;34m(*args, **kwargs)\u001b[0m\n\u001b[0;32m     11\u001b[0m     example \u001b[38;5;241m=\u001b[39m \u001b[38;5;124m\"\"\"\u001b[39m\n\u001b[0;32m     12\u001b[0m \u001b[38;5;124m    import os\u001b[39m\n\u001b[0;32m     13\u001b[0m \u001b[38;5;124m    from pinecone import Pinecone, ServerlessSpec\u001b[39m\n\u001b[1;32m   (...)\u001b[0m\n\u001b[0;32m     29\u001b[0m \u001b[38;5;124m        )\u001b[39m\n\u001b[0;32m     30\u001b[0m \u001b[38;5;124m\"\"\"\u001b[39m\n\u001b[0;32m     31\u001b[0m     msg \u001b[38;5;241m=\u001b[39m \u001b[38;5;124mf\u001b[39m\u001b[38;5;124m\"\"\"\u001b[39m\u001b[38;5;124minit is no longer a top-level attribute of the pinecone package.\u001b[39m\n\u001b[0;32m     32\u001b[0m \n\u001b[0;32m     33\u001b[0m \u001b[38;5;124mPlease create an instance of the Pinecone class instead.\u001b[39m\n\u001b[1;32m   (...)\u001b[0m\n\u001b[0;32m     36\u001b[0m \u001b[38;5;132;01m{\u001b[39;00mexample\u001b[38;5;132;01m}\u001b[39;00m\n\u001b[0;32m     37\u001b[0m \u001b[38;5;124m\"\"\"\u001b[39m\n\u001b[1;32m---> 38\u001b[0m     \u001b[38;5;28;01mraise\u001b[39;00m \u001b[38;5;167;01mAttributeError\u001b[39;00m(msg)\n",
      "\u001b[1;31mAttributeError\u001b[0m: init is no longer a top-level attribute of the pinecone package.\n\nPlease create an instance of the Pinecone class instead.\n\nExample:\n\n    import os\n    from pinecone import Pinecone, ServerlessSpec\n\n    pc = Pinecone(\n        api_key=os.environ.get(\"PINECONE_API_KEY\")\n    )\n\n    # Now do stuff\n    if 'my_index' not in pc.list_indexes().names():\n        pc.create_index(\n            name='my_index', \n            dimension=1536, \n            metric='euclidean',\n            spec=ServerlessSpec(\n                cloud='aws',\n                region='us-west-2'\n            )\n        )\n\n"
     ]
    }
   ],
   "source": []
  },
  {
   "cell_type": "code",
   "execution_count": 37,
   "metadata": {},
   "outputs": [],
   "source": [
    "if 'myproject' not in pc.list_indexes().names():\n",
    "        pc.create_index(\n",
    "            name='my_index', \n",
    "            dimension=1536, \n",
    "            metric='euclidean',\n",
    "            spec=ServerlessSpec(\n",
    "                cloud='aws',\n",
    "                region='us-west-2'\n",
    "            )\n",
    "        )"
   ]
  },
  {
   "cell_type": "code",
   "execution_count": 38,
   "metadata": {},
   "outputs": [],
   "source": [
    "index = pc.Index('myproject')"
   ]
  },
  {
   "cell_type": "code",
   "execution_count": 39,
   "metadata": {},
   "outputs": [
    {
     "ename": "AttributeError",
     "evalue": "from_texts is not a top-level attribute of the Pinecone class provided by pinecone's official python package developed at https://github.com/pinecone-io/pinecone-python-client. You may have a name collision with an export from another dependency in your project that wraps Pinecone functionality and exports a similarly named class. Please refer to the following knowledge base article for more information: https://docs.pinecone.io/troubleshooting/pinecone-attribute-errors-with-langchain\n",
     "output_type": "error",
     "traceback": [
      "\u001b[1;31m---------------------------------------------------------------------------\u001b[0m",
      "\u001b[1;31mAttributeError\u001b[0m                            Traceback (most recent call last)",
      "Cell \u001b[1;32mIn[39], line 1\u001b[0m\n\u001b[1;32m----> 1\u001b[0m docsearch \u001b[38;5;241m=\u001b[39m Pinecone\u001b[38;5;241m.\u001b[39mfrom_texts([t\u001b[38;5;241m.\u001b[39mpage_content \u001b[38;5;28;01mfor\u001b[39;00m t \u001b[38;5;129;01min\u001b[39;00m text_chunks], embedding, index_name\u001b[38;5;241m=\u001b[39m\u001b[38;5;124m'\u001b[39m\u001b[38;5;124mmyproject\u001b[39m\u001b[38;5;124m'\u001b[39m)\n",
      "File \u001b[1;32mc:\\Users\\navee\\anaconda3\\Lib\\site-packages\\pinecone\\control\\pinecone.py:551\u001b[0m, in \u001b[0;36mPinecone.from_texts\u001b[1;34m(*args, **kwargs)\u001b[0m\n\u001b[0;32m    549\u001b[0m \u001b[38;5;129m@staticmethod\u001b[39m\n\u001b[0;32m    550\u001b[0m \u001b[38;5;28;01mdef\u001b[39;00m \u001b[38;5;21mfrom_texts\u001b[39m(\u001b[38;5;241m*\u001b[39margs, \u001b[38;5;241m*\u001b[39m\u001b[38;5;241m*\u001b[39mkwargs):\n\u001b[1;32m--> 551\u001b[0m     \u001b[38;5;28;01mraise\u001b[39;00m \u001b[38;5;167;01mAttributeError\u001b[39;00m(_build_langchain_attribute_error_message(\u001b[38;5;124m\"\u001b[39m\u001b[38;5;124mfrom_texts\u001b[39m\u001b[38;5;124m\"\u001b[39m))\n",
      "\u001b[1;31mAttributeError\u001b[0m: from_texts is not a top-level attribute of the Pinecone class provided by pinecone's official python package developed at https://github.com/pinecone-io/pinecone-python-client. You may have a name collision with an export from another dependency in your project that wraps Pinecone functionality and exports a similarly named class. Please refer to the following knowledge base article for more information: https://docs.pinecone.io/troubleshooting/pinecone-attribute-errors-with-langchain\n"
     ]
    }
   ],
   "source": [
    "docsearch = Pinecone.from_texts([t.page_content for t in text_chunks], embedding, index_name='myproject')"
   ]
  },
  {
   "cell_type": "code",
   "execution_count": null,
   "metadata": {},
   "outputs": [],
   "source": []
  }
 ],
 "metadata": {
  "kernelspec": {
   "display_name": "base",
   "language": "python",
   "name": "python3"
  },
  "language_info": {
   "codemirror_mode": {
    "name": "ipython",
    "version": 3
   },
   "file_extension": ".py",
   "mimetype": "text/x-python",
   "name": "python",
   "nbconvert_exporter": "python",
   "pygments_lexer": "ipython3",
   "version": "3.11.7"
  }
 },
 "nbformat": 4,
 "nbformat_minor": 2
}
