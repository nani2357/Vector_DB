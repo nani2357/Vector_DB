{
 "cells": [
  {
   "cell_type": "code",
   "execution_count": 14,
   "metadata": {},
   "outputs": [],
   "source": [
    "from langchain.document_loaders import DirectoryLoader\n",
    "from langchain.document_loaders import TextLoader\n",
    "from langchain.vectorstores import Chroma\n",
    "from langchain.embeddings import OpenAIEmbeddings\n",
    "from langchain.text_splitter import RecursiveCharacterTextSplitter"
   ]
  },
  {
   "cell_type": "code",
   "execution_count": 11,
   "metadata": {},
   "outputs": [],
   "source": [
    "from dotenv import load_dotenv\n",
    "import os\n",
    "load_dotenv()\n",
    "OPENAI_API_KEY=os.getenv(\"OPENAI_API_KEY\")\n",
    "\n",
    "#print(OPENAI_API_KEY)"
   ]
  },
  {
   "cell_type": "code",
   "execution_count": 13,
   "metadata": {},
   "outputs": [
    {
     "data": {
      "text/plain": [
       "[Document(page_content='Artificial Intelligence (AI) refers to the simulation of human intelligence in machines that are programmed to think and mimic human actions. It encompasses a wide range of technologies and applications, including machine learning, natural language processing, computer vision, robotics, and more. AI systems can analyze vast amounts of data, recognize patterns, make decisions, and even learn from experience. They are used in various industries, such as healthcare, finance, transportation, and entertainment, to automate tasks, improve efficiency, and solve complex problems. As AI continues to advance, it holds the promise of revolutionizing how we work, live, and interact with technology.', metadata={'source': 'data\\\\ai.txt'}),\n",
       " Document(page_content='Machine Learning is a subset of artificial intelligence that focuses on developing algorithms and statistical models that enable computers to learn from and make predictions or decisions based on data. Unlike traditional programming, where explicit instructions are provided, machine learning algorithms learn from labeled or unlabeled data to find patterns and make informed decisions. There are various types of machine learning, including supervised learning, unsupervised learning, and reinforcement learning, each suited for different tasks and objectives. Machine learning has applications in areas such as image and speech recognition, recommendation systems, medical diagnosis, financial forecasting, and autonomous vehicles, among others.', metadata={'source': 'data\\\\ml.txt'}),\n",
       " Document(page_content='Open Banking is a financial practice that involves the use of open Application Programming Interfaces (APIs) to enable third-party developers to build applications and services around financial institutions. It allows customers to share their financial data securely with third-party providers, such as fintech startups or other banks, to access innovative financial products and services. Open Banking promotes competition, innovation, and transparency in the banking industry by facilitating the exchange of financial information and encouraging collaboration among stakeholders. It enables consumers to manage their finances more effectively, compare products and services, and access personalized financial advice and solutions tailored to their needs and preferences. Open Banking has the potential to transform the way people bank and drive the development of new business models and partnerships in the financial sector.', metadata={'source': 'data\\\\openbanking.txt'})]"
      ]
     },
     "execution_count": 13,
     "metadata": {},
     "output_type": "execute_result"
    }
   ],
   "source": [
    "loader = DirectoryLoader('./data',glob=\"./*.txt\", loader_cls=TextLoader)\n",
    "\n",
    "documents = loader.load()\n",
    "\n",
    "documents"
   ]
  },
  {
   "cell_type": "code",
   "execution_count": null,
   "metadata": {},
   "outputs": [],
   "source": []
  }
 ],
 "metadata": {
  "kernelspec": {
   "display_name": "base",
   "language": "python",
   "name": "python3"
  },
  "language_info": {
   "codemirror_mode": {
    "name": "ipython",
    "version": 3
   },
   "file_extension": ".py",
   "mimetype": "text/x-python",
   "name": "python",
   "nbconvert_exporter": "python",
   "pygments_lexer": "ipython3",
   "version": "3.11.7"
  }
 },
 "nbformat": 4,
 "nbformat_minor": 2
}
